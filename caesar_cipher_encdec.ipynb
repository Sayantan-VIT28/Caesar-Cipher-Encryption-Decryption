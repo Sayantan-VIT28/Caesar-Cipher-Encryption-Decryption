{
 "cells": [
  {
   "cell_type": "code",
   "execution_count": null,
   "id": "3d1cf968-b165-44ec-9038-c17355646aeb",
   "metadata": {},
   "outputs": [
    {
     "name": "stdout",
     "output_type": "stream",
     "text": [
      "Welcome to Caesar Cipher Program!!!\n",
      "\n",
      "Choose an option:\n",
      "1. Encrypt a message\n",
      "2. Decrypt a message\n",
      "3. Exit\n",
      "Message to be encrypted: Happy New Year 2025\n",
      "Shift value: 2\n",
      "Encrypted message: Jcrra Pgy Agct 2025\n",
      "\n",
      "Choose an option:\n",
      "1. Encrypt a message\n",
      "2. Decrypt a message\n",
      "3. Exit\n",
      "Message to be decrypted: Jcrra Pgy Agct 2025\n",
      "Shift value: 2\n",
      "Decrypted message: Happy New Year 2025\n",
      "\n",
      "Choose an option:\n",
      "1. Encrypt a message\n",
      "2. Decrypt a message\n",
      "3. Exit\n",
      "Exiting the program. Goodbye!\n"
     ]
    }
   ],
   "source": [
    "def caesar_cipher_encryption(text, shift):\n",
    "    encrypted_text = \"\"\n",
    "    for char in text:\n",
    "        if char.isalpha():\n",
    "            shift_base = ord('A') if char.isupper() else ord('a')\n",
    "            encrypted_char = chr((ord(char) - shift_base + shift) % 26 + shift_base)\n",
    "            encrypted_text += encrypted_char\n",
    "        else:\n",
    "            encrypted_text += char\n",
    "    return encrypted_text\n",
    "\n",
    "def caesar_cipher_decryption(text, shift):\n",
    "    return caesar_cipher_encryption(text, -shift)\n",
    "\n",
    "def main():\n",
    "    print(\"Welcome to Caesar Cipher Program!!!\")\n",
    "    while True:\n",
    "        print(\"\\nChoose an option:\")\n",
    "        print(\"1. Encrypt a message\")\n",
    "        print(\"2. Decrypt a message\")\n",
    "        print(\"3. Exit\")\n",
    "\n",
    "        choice = input(\"Enter your choice (1/2/3): \")\n",
    "        if choice == '1':\n",
    "            message = input(\"Enter the message to encrypt: \")\n",
    "            print(\"Message to be encrypted:\", message)\n",
    "            shift = int(input(\"Enter the shift value: \"))\n",
    "            print(\"Shift value:\", shift)\n",
    "            encrypted_message = caesar_cipher_encryption(message, shift)\n",
    "            print(\"Encrypted message:\", encrypted_message)\n",
    "        elif choice == '2':\n",
    "            message = input(\"Enter the message to decrypt: \")\n",
    "            print(\"Message to be decrypted:\", message)\n",
    "            shift = int(input(\"Enter the shift value: \"))\n",
    "            print(\"Shift value:\", shift)\n",
    "            decrypted_message = caesar_cipher_decryption(message, shift)\n",
    "            print(\"Decrypted message:\", decrypted_message)\n",
    "        elif choice == '3':\n",
    "            print(\"Exiting the program. Goodbye!\")\n",
    "            break\n",
    "        else:\n",
    "            print(\"Invalid choice. Please try again.\")\n",
    "\n",
    "if __name__ == \"__main__\":\n",
    "  main()"
   ]
  }
 ],
 "metadata": {
  "language_info": {
   "codemirror_mode": {
    "name": "ipython",
    "version": 3
   },
   "file_extension": ".py",
   "mimetype": "text/x-python",
   "name": "python",
   "nbconvert_exporter": "python",
   "pygments_lexer": "ipython3",
   "version": 3
  }
 },
 "nbformat": 4,
 "nbformat_minor": 2
}
